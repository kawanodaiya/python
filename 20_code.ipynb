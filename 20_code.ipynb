{
 "cells": [
  {
   "cell_type": "code",
   "execution_count": 1,
   "id": "86222a75",
   "metadata": {},
   "outputs": [],
   "source": [
    "import numpy as np"
   ]
  },
  {
   "cell_type": "code",
   "execution_count": null,
   "id": "c7156abd",
   "metadata": {},
   "outputs": [],
   "source": [
    "a = np.array([1,2,3])"
   ]
  },
  {
   "cell_type": "code",
   "execution_count": null,
   "id": "d84f8442",
   "metadata": {},
   "outputs": [
    {
     "data": {
      "text/plain": [
       "array([1, 2, 3])"
      ]
     },
     "execution_count": 3,
     "metadata": {},
     "output_type": "execute_result"
    }
   ],
   "source": [
    "a"
   ]
  },
  {
   "cell_type": "code",
   "execution_count": null,
   "id": "cc062c11",
   "metadata": {},
   "outputs": [
    {
     "data": {
      "text/plain": [
       "2"
      ]
     },
     "execution_count": 4,
     "metadata": {},
     "output_type": "execute_result"
    }
   ],
   "source": [
    "a[1]"
   ]
  },
  {
   "cell_type": "code",
   "execution_count": null,
   "id": "cfa02e24",
   "metadata": {},
   "outputs": [],
   "source": [
    "a = np.array([[1,2,3],[4,5,6]])"
   ]
  },
  {
   "cell_type": "code",
   "execution_count": null,
   "id": "4bbb4ad4",
   "metadata": {},
   "outputs": [
    {
     "data": {
      "text/plain": [
       "array([1, 2, 3])"
      ]
     },
     "execution_count": 7,
     "metadata": {},
     "output_type": "execute_result"
    }
   ],
   "source": [
    "a[0]"
   ]
  },
  {
   "cell_type": "code",
   "execution_count": null,
   "id": "f673ced3",
   "metadata": {},
   "outputs": [
    {
     "data": {
      "text/plain": [
       "2"
      ]
     },
     "execution_count": 8,
     "metadata": {},
     "output_type": "execute_result"
    }
   ],
   "source": [
    "a[0][1]"
   ]
  },
  {
   "cell_type": "code",
   "execution_count": null,
   "id": "35eda4e8",
   "metadata": {},
   "outputs": [
    {
     "data": {
      "text/plain": [
       "(2, 3)"
      ]
     },
     "execution_count": 9,
     "metadata": {},
     "output_type": "execute_result"
    }
   ],
   "source": [
    "a.shape"
   ]
  },
  {
   "cell_type": "code",
   "execution_count": null,
   "id": "c573a9d3",
   "metadata": {},
   "outputs": [
    {
     "data": {
      "text/plain": [
       "array([ 0,  5, 10, 15, 20, 25])"
      ]
     },
     "execution_count": 11,
     "metadata": {},
     "output_type": "execute_result"
    }
   ],
   "source": [
    "np.arange(0, 30, 5)"
   ]
  },
  {
   "cell_type": "code",
   "execution_count": null,
   "id": "c3c50399",
   "metadata": {},
   "outputs": [
    {
     "data": {
      "text/plain": [
       "array([0. , 0.3, 0.6, 0.9, 1.2, 1.5, 1.8])"
      ]
     },
     "execution_count": 12,
     "metadata": {},
     "output_type": "execute_result"
    }
   ],
   "source": [
    "np.arange(0, 2, 0.3)"
   ]
  },
  {
   "cell_type": "code",
   "execution_count": null,
   "id": "fa4064f0",
   "metadata": {},
   "outputs": [
    {
     "data": {
      "text/plain": [
       "array([[0., 0., 0., 0.],\n",
       "       [0., 0., 0., 0.],\n",
       "       [0., 0., 0., 0.]])"
      ]
     },
     "execution_count": 13,
     "metadata": {},
     "output_type": "execute_result"
    }
   ],
   "source": [
    "np.zeros((3, 4))"
   ]
  },
  {
   "cell_type": "code",
   "execution_count": null,
   "id": "81623ec5",
   "metadata": {},
   "outputs": [
    {
     "data": {
      "text/plain": [
       "array([[0, 0, 0, 0],\n",
       "       [0, 0, 0, 0],\n",
       "       [0, 0, 0, 0]], dtype=int16)"
      ]
     },
     "execution_count": 15,
     "metadata": {},
     "output_type": "execute_result"
    }
   ],
   "source": [
    "np.zeros((3, 4), dtype=np.int16)"
   ]
  },
  {
   "cell_type": "code",
   "execution_count": null,
   "id": "5144d4df",
   "metadata": {},
   "outputs": [
    {
     "data": {
      "text/plain": [
       "array([0, 1, 2, 3, 4, 5])"
      ]
     },
     "execution_count": 18,
     "metadata": {},
     "output_type": "execute_result"
    }
   ],
   "source": [
    "a = np.arange(6)\n",
    "a"
   ]
  },
  {
   "cell_type": "code",
   "execution_count": null,
   "id": "3976e2d4",
   "metadata": {},
   "outputs": [
    {
     "data": {
      "text/plain": [
       "array([[0, 1, 2],\n",
       "       [3, 4, 5]])"
      ]
     },
     "execution_count": 19,
     "metadata": {},
     "output_type": "execute_result"
    }
   ],
   "source": [
    "a = np.arange(6).reshape(2, 3)\n",
    "a"
   ]
  },
  {
   "cell_type": "code",
   "execution_count": null,
   "id": "bdc06bcf",
   "metadata": {},
   "outputs": [
    {
     "data": {
      "text/plain": [
       "array([[[ 0,  1,  2,  3],\n",
       "        [ 4,  5,  6,  7],\n",
       "        [ 8,  9, 10, 11]],\n",
       "\n",
       "       [[12, 13, 14, 15],\n",
       "        [16, 17, 18, 19],\n",
       "        [20, 21, 22, 23]]])"
      ]
     },
     "execution_count": 21,
     "metadata": {},
     "output_type": "execute_result"
    }
   ],
   "source": [
    "a = np.arange(24).reshape(2, 3, 4)\n",
    "a"
   ]
  },
  {
   "cell_type": "code",
   "execution_count": null,
   "id": "460bda37",
   "metadata": {},
   "outputs": [
    {
     "data": {
      "text/plain": [
       "array([ 0, 20, 40, 60, 80])"
      ]
     },
     "execution_count": 23,
     "metadata": {},
     "output_type": "execute_result"
    }
   ],
   "source": [
    "x = np.arange(0, 10,2)\n",
    "y = np.arange(5)\n",
    "z = np.arange(0, 100, 20)"
   ]
  },
  {
   "cell_type": "code",
   "execution_count": null,
   "id": "2332f68b",
   "metadata": {},
   "outputs": [
    {
     "data": {
      "text/plain": [
       "array([0, 2, 4, 6, 8, 0, 1, 2, 3, 4])"
      ]
     },
     "execution_count": 24,
     "metadata": {},
     "output_type": "execute_result"
    }
   ],
   "source": [
    "np.append(x,y)"
   ]
  },
  {
   "cell_type": "code",
   "execution_count": null,
   "id": "e7badb8b",
   "metadata": {},
   "outputs": [
    {
     "data": {
      "text/plain": [
       "array([[ 0,  2,  4,  6,  8],\n",
       "       [ 0,  1,  2,  3,  4],\n",
       "       [ 0, 20, 40, 60, 80]])"
      ]
     },
     "execution_count": 25,
     "metadata": {},
     "output_type": "execute_result"
    }
   ],
   "source": [
    "np.vstack([x, y, z])"
   ]
  },
  {
   "cell_type": "code",
   "execution_count": null,
   "id": "57c21727",
   "metadata": {},
   "outputs": [
    {
     "data": {
      "text/plain": [
       "array([ 0,  2,  4,  6,  8,  0,  1,  2,  3,  4,  0, 20, 40, 60, 80])"
      ]
     },
     "execution_count": 26,
     "metadata": {},
     "output_type": "execute_result"
    }
   ],
   "source": [
    "np.hstack([x, y, z])"
   ]
  },
  {
   "cell_type": "code",
   "execution_count": null,
   "id": "2225f32b",
   "metadata": {},
   "outputs": [
    {
     "data": {
      "text/plain": [
       "array([0, 2, 4, 6, 8])"
      ]
     },
     "execution_count": 28,
     "metadata": {},
     "output_type": "execute_result"
    }
   ],
   "source": [
    "x"
   ]
  },
  {
   "cell_type": "code",
   "execution_count": null,
   "id": "6e348304",
   "metadata": {},
   "outputs": [
    {
     "data": {
      "text/plain": [
       "array([0, 1, 2, 3, 4])"
      ]
     },
     "execution_count": 29,
     "metadata": {},
     "output_type": "execute_result"
    }
   ],
   "source": [
    "y"
   ]
  },
  {
   "cell_type": "code",
   "execution_count": null,
   "id": "95b3dca9",
   "metadata": {},
   "outputs": [
    {
     "data": {
      "text/plain": [
       "array([ 0,  3,  6,  9, 12])"
      ]
     },
     "execution_count": 30,
     "metadata": {},
     "output_type": "execute_result"
    }
   ],
   "source": [
    "x + y"
   ]
  },
  {
   "cell_type": "code",
   "execution_count": null,
   "id": "cf09d98d",
   "metadata": {},
   "outputs": [
    {
     "data": {
      "text/plain": [
       "array([ True, False, False, False, False])"
      ]
     },
     "execution_count": 32,
     "metadata": {},
     "output_type": "execute_result"
    }
   ],
   "source": [
    "x < 2"
   ]
  },
  {
   "cell_type": "code",
   "execution_count": null,
   "id": "4f0b09a8",
   "metadata": {},
   "outputs": [],
   "source": [
    "import pandas as pd"
   ]
  },
  {
   "cell_type": "code",
   "execution_count": null,
   "id": "1816f177",
   "metadata": {},
   "outputs": [],
   "source": [
    "s = pd.Series([1, 2, np.nan])"
   ]
  },
  {
   "cell_type": "code",
   "execution_count": null,
   "id": "070c84dd",
   "metadata": {},
   "outputs": [
    {
     "data": {
      "text/plain": [
       "0    1.0\n",
       "1    2.0\n",
       "2    NaN\n",
       "dtype: float64"
      ]
     },
     "execution_count": 38,
     "metadata": {},
     "output_type": "execute_result"
    }
   ],
   "source": [
    "s"
   ]
  },
  {
   "cell_type": "code",
   "execution_count": null,
   "id": "831fa4be",
   "metadata": {},
   "outputs": [
    {
     "data": {
      "text/plain": [
       "1.0"
      ]
     },
     "execution_count": 39,
     "metadata": {},
     "output_type": "execute_result"
    }
   ],
   "source": [
    "s[0]"
   ]
  },
  {
   "cell_type": "code",
   "execution_count": null,
   "id": "83c1bb79",
   "metadata": {},
   "outputs": [
    {
     "data": {
      "text/plain": [
       "3.0"
      ]
     },
     "execution_count": 40,
     "metadata": {},
     "output_type": "execute_result"
    }
   ],
   "source": [
    "s.sum()"
   ]
  },
  {
   "cell_type": "code",
   "execution_count": null,
   "id": "17b753de",
   "metadata": {},
   "outputs": [],
   "source": [
    "df = pd.DataFrame({'A':[1, 2], 'B':[3, 4]})"
   ]
  },
  {
   "cell_type": "code",
   "execution_count": null,
   "id": "1fa07b04",
   "metadata": {},
   "outputs": [
    {
     "data": {
      "text/html": [
       "<div>\n",
       "<style scoped>\n",
       "    .dataframe tbody tr th:only-of-type {\n",
       "        vertical-align: middle;\n",
       "    }\n",
       "\n",
       "    .dataframe tbody tr th {\n",
       "        vertical-align: top;\n",
       "    }\n",
       "\n",
       "    .dataframe thead th {\n",
       "        text-align: right;\n",
       "    }\n",
       "</style>\n",
       "<table border=\"1\" class=\"dataframe\">\n",
       "  <thead>\n",
       "    <tr style=\"text-align: right;\">\n",
       "      <th></th>\n",
       "      <th>A</th>\n",
       "      <th>B</th>\n",
       "    </tr>\n",
       "  </thead>\n",
       "  <tbody>\n",
       "    <tr>\n",
       "      <th>0</th>\n",
       "      <td>1</td>\n",
       "      <td>3</td>\n",
       "    </tr>\n",
       "    <tr>\n",
       "      <th>1</th>\n",
       "      <td>2</td>\n",
       "      <td>4</td>\n",
       "    </tr>\n",
       "  </tbody>\n",
       "</table>\n",
       "</div>"
      ],
      "text/plain": [
       "   A  B\n",
       "0  1  3\n",
       "1  2  4"
      ]
     },
     "execution_count": 43,
     "metadata": {},
     "output_type": "execute_result"
    }
   ],
   "source": [
    "df"
   ]
  },
  {
   "cell_type": "code",
   "execution_count": null,
   "id": "77401d07",
   "metadata": {},
   "outputs": [
    {
     "data": {
      "text/html": [
       "<div>\n",
       "<style scoped>\n",
       "    .dataframe tbody tr th:only-of-type {\n",
       "        vertical-align: middle;\n",
       "    }\n",
       "\n",
       "    .dataframe tbody tr th {\n",
       "        vertical-align: top;\n",
       "    }\n",
       "\n",
       "    .dataframe thead th {\n",
       "        text-align: right;\n",
       "    }\n",
       "</style>\n",
       "<table border=\"1\" class=\"dataframe\">\n",
       "  <thead>\n",
       "    <tr style=\"text-align: right;\">\n",
       "      <th></th>\n",
       "      <th>0</th>\n",
       "      <th>1</th>\n",
       "      <th>2</th>\n",
       "      <th>3</th>\n",
       "    </tr>\n",
       "  </thead>\n",
       "  <tbody>\n",
       "    <tr>\n",
       "      <th>0</th>\n",
       "      <td>-0.028127</td>\n",
       "      <td>2.347944</td>\n",
       "      <td>-0.269632</td>\n",
       "      <td>1.549931</td>\n",
       "    </tr>\n",
       "    <tr>\n",
       "      <th>1</th>\n",
       "      <td>0.546235</td>\n",
       "      <td>-0.570373</td>\n",
       "      <td>0.610549</td>\n",
       "      <td>-0.928464</td>\n",
       "    </tr>\n",
       "    <tr>\n",
       "      <th>2</th>\n",
       "      <td>-0.810212</td>\n",
       "      <td>-0.314751</td>\n",
       "      <td>-0.622017</td>\n",
       "      <td>-1.002497</td>\n",
       "    </tr>\n",
       "    <tr>\n",
       "      <th>3</th>\n",
       "      <td>-1.567960</td>\n",
       "      <td>1.001496</td>\n",
       "      <td>0.215540</td>\n",
       "      <td>0.755883</td>\n",
       "    </tr>\n",
       "    <tr>\n",
       "      <th>4</th>\n",
       "      <td>0.869843</td>\n",
       "      <td>-0.464061</td>\n",
       "      <td>-1.222686</td>\n",
       "      <td>-1.240631</td>\n",
       "    </tr>\n",
       "    <tr>\n",
       "      <th>5</th>\n",
       "      <td>0.720124</td>\n",
       "      <td>0.513694</td>\n",
       "      <td>-0.674445</td>\n",
       "      <td>0.413528</td>\n",
       "    </tr>\n",
       "  </tbody>\n",
       "</table>\n",
       "</div>"
      ],
      "text/plain": [
       "          0         1         2         3\n",
       "0 -0.028127  2.347944 -0.269632  1.549931\n",
       "1  0.546235 -0.570373  0.610549 -0.928464\n",
       "2 -0.810212 -0.314751 -0.622017 -1.002497\n",
       "3 -1.567960  1.001496  0.215540  0.755883\n",
       "4  0.869843 -0.464061 -1.222686 -1.240631\n",
       "5  0.720124  0.513694 -0.674445  0.413528"
      ]
     },
     "execution_count": 46,
     "metadata": {},
     "output_type": "execute_result"
    }
   ],
   "source": [
    "df = pd.DataFrame(np.random.randn(6, 4))\n",
    "df"
   ]
  },
  {
   "cell_type": "code",
   "execution_count": null,
   "id": "a5a621e6",
   "metadata": {},
   "outputs": [
    {
     "data": {
      "text/html": [
       "<div>\n",
       "<style scoped>\n",
       "    .dataframe tbody tr th:only-of-type {\n",
       "        vertical-align: middle;\n",
       "    }\n",
       "\n",
       "    .dataframe tbody tr th {\n",
       "        vertical-align: top;\n",
       "    }\n",
       "\n",
       "    .dataframe thead th {\n",
       "        text-align: right;\n",
       "    }\n",
       "</style>\n",
       "<table border=\"1\" class=\"dataframe\">\n",
       "  <thead>\n",
       "    <tr style=\"text-align: right;\">\n",
       "      <th></th>\n",
       "      <th>0</th>\n",
       "      <th>1</th>\n",
       "      <th>2</th>\n",
       "      <th>3</th>\n",
       "    </tr>\n",
       "  </thead>\n",
       "  <tbody>\n",
       "    <tr>\n",
       "      <th>2023-05-29</th>\n",
       "      <td>-1.100305</td>\n",
       "      <td>0.877972</td>\n",
       "      <td>0.942460</td>\n",
       "      <td>0.651701</td>\n",
       "    </tr>\n",
       "    <tr>\n",
       "      <th>2023-05-30</th>\n",
       "      <td>-0.606071</td>\n",
       "      <td>-1.601987</td>\n",
       "      <td>-0.741724</td>\n",
       "      <td>0.681250</td>\n",
       "    </tr>\n",
       "    <tr>\n",
       "      <th>2023-05-31</th>\n",
       "      <td>1.049810</td>\n",
       "      <td>-0.984853</td>\n",
       "      <td>0.543007</td>\n",
       "      <td>1.668725</td>\n",
       "    </tr>\n",
       "    <tr>\n",
       "      <th>2023-06-01</th>\n",
       "      <td>-1.540970</td>\n",
       "      <td>-0.917311</td>\n",
       "      <td>0.681805</td>\n",
       "      <td>-1.182303</td>\n",
       "    </tr>\n",
       "    <tr>\n",
       "      <th>2023-06-02</th>\n",
       "      <td>-0.145590</td>\n",
       "      <td>-1.272632</td>\n",
       "      <td>-0.451156</td>\n",
       "      <td>0.431283</td>\n",
       "    </tr>\n",
       "    <tr>\n",
       "      <th>2023-06-03</th>\n",
       "      <td>-1.351627</td>\n",
       "      <td>1.960821</td>\n",
       "      <td>-1.985295</td>\n",
       "      <td>-0.035375</td>\n",
       "    </tr>\n",
       "  </tbody>\n",
       "</table>\n",
       "</div>"
      ],
      "text/plain": [
       "                   0         1         2         3\n",
       "2023-05-29 -1.100305  0.877972  0.942460  0.651701\n",
       "2023-05-30 -0.606071 -1.601987 -0.741724  0.681250\n",
       "2023-05-31  1.049810 -0.984853  0.543007  1.668725\n",
       "2023-06-01 -1.540970 -0.917311  0.681805 -1.182303\n",
       "2023-06-02 -0.145590 -1.272632 -0.451156  0.431283\n",
       "2023-06-03 -1.351627  1.960821 -1.985295 -0.035375"
      ]
     },
     "execution_count": 48,
     "metadata": {},
     "output_type": "execute_result"
    }
   ],
   "source": [
    "df = pd.DataFrame(np.random.randn(6, 4), index=pd.date_range('20230529', periods=6))\n",
    "df"
   ]
  },
  {
   "cell_type": "code",
   "execution_count": null,
   "id": "1e217399",
   "metadata": {},
   "outputs": [
    {
     "data": {
      "text/html": [
       "<div>\n",
       "<style scoped>\n",
       "    .dataframe tbody tr th:only-of-type {\n",
       "        vertical-align: middle;\n",
       "    }\n",
       "\n",
       "    .dataframe tbody tr th {\n",
       "        vertical-align: top;\n",
       "    }\n",
       "\n",
       "    .dataframe thead th {\n",
       "        text-align: right;\n",
       "    }\n",
       "</style>\n",
       "<table border=\"1\" class=\"dataframe\">\n",
       "  <thead>\n",
       "    <tr style=\"text-align: right;\">\n",
       "      <th></th>\n",
       "      <th>A</th>\n",
       "      <th>B</th>\n",
       "      <th>C</th>\n",
       "      <th>D</th>\n",
       "    </tr>\n",
       "  </thead>\n",
       "  <tbody>\n",
       "    <tr>\n",
       "      <th>2023-05-29</th>\n",
       "      <td>-1.037032</td>\n",
       "      <td>0.842239</td>\n",
       "      <td>-0.052414</td>\n",
       "      <td>-0.297150</td>\n",
       "    </tr>\n",
       "    <tr>\n",
       "      <th>2023-05-30</th>\n",
       "      <td>-0.409902</td>\n",
       "      <td>1.448219</td>\n",
       "      <td>-0.003517</td>\n",
       "      <td>0.718898</td>\n",
       "    </tr>\n",
       "    <tr>\n",
       "      <th>2023-05-31</th>\n",
       "      <td>-1.757233</td>\n",
       "      <td>0.806037</td>\n",
       "      <td>0.081484</td>\n",
       "      <td>0.935362</td>\n",
       "    </tr>\n",
       "    <tr>\n",
       "      <th>2023-06-01</th>\n",
       "      <td>1.004906</td>\n",
       "      <td>1.263361</td>\n",
       "      <td>0.009152</td>\n",
       "      <td>0.632351</td>\n",
       "    </tr>\n",
       "    <tr>\n",
       "      <th>2023-06-02</th>\n",
       "      <td>0.295000</td>\n",
       "      <td>-1.331769</td>\n",
       "      <td>0.636464</td>\n",
       "      <td>-0.969755</td>\n",
       "    </tr>\n",
       "    <tr>\n",
       "      <th>2023-06-03</th>\n",
       "      <td>0.521974</td>\n",
       "      <td>0.990781</td>\n",
       "      <td>-0.702545</td>\n",
       "      <td>-0.081492</td>\n",
       "    </tr>\n",
       "  </tbody>\n",
       "</table>\n",
       "</div>"
      ],
      "text/plain": [
       "                   A         B         C         D\n",
       "2023-05-29 -1.037032  0.842239 -0.052414 -0.297150\n",
       "2023-05-30 -0.409902  1.448219 -0.003517  0.718898\n",
       "2023-05-31 -1.757233  0.806037  0.081484  0.935362\n",
       "2023-06-01  1.004906  1.263361  0.009152  0.632351\n",
       "2023-06-02  0.295000 -1.331769  0.636464 -0.969755\n",
       "2023-06-03  0.521974  0.990781 -0.702545 -0.081492"
      ]
     },
     "execution_count": 49,
     "metadata": {},
     "output_type": "execute_result"
    }
   ],
   "source": [
    "df = pd.DataFrame(np.random.randn(6, 4), index=pd.date_range('20230529', periods=6), columns=['A', 'B', 'C', 'D'])\n",
    "df"
   ]
  },
  {
   "cell_type": "code",
   "execution_count": null,
   "id": "b7eeec3f",
   "metadata": {},
   "outputs": [
    {
     "data": {
      "text/html": [
       "<div>\n",
       "<style scoped>\n",
       "    .dataframe tbody tr th:only-of-type {\n",
       "        vertical-align: middle;\n",
       "    }\n",
       "\n",
       "    .dataframe tbody tr th {\n",
       "        vertical-align: top;\n",
       "    }\n",
       "\n",
       "    .dataframe thead th {\n",
       "        text-align: right;\n",
       "    }\n",
       "</style>\n",
       "<table border=\"1\" class=\"dataframe\">\n",
       "  <thead>\n",
       "    <tr style=\"text-align: right;\">\n",
       "      <th></th>\n",
       "      <th>A</th>\n",
       "      <th>B</th>\n",
       "      <th>C</th>\n",
       "      <th>D</th>\n",
       "    </tr>\n",
       "  </thead>\n",
       "  <tbody>\n",
       "    <tr>\n",
       "      <th>2023-05-29</th>\n",
       "      <td>-1.037032</td>\n",
       "      <td>0.842239</td>\n",
       "      <td>-0.052414</td>\n",
       "      <td>-0.29715</td>\n",
       "    </tr>\n",
       "  </tbody>\n",
       "</table>\n",
       "</div>"
      ],
      "text/plain": [
       "                   A         B         C        D\n",
       "2023-05-29 -1.037032  0.842239 -0.052414 -0.29715"
      ]
     },
     "execution_count": 50,
     "metadata": {},
     "output_type": "execute_result"
    }
   ],
   "source": [
    "df.head(1)"
   ]
  },
  {
   "cell_type": "code",
   "execution_count": null,
   "id": "88b321c8",
   "metadata": {},
   "outputs": [
    {
     "data": {
      "text/html": [
       "<div>\n",
       "<style scoped>\n",
       "    .dataframe tbody tr th:only-of-type {\n",
       "        vertical-align: middle;\n",
       "    }\n",
       "\n",
       "    .dataframe tbody tr th {\n",
       "        vertical-align: top;\n",
       "    }\n",
       "\n",
       "    .dataframe thead th {\n",
       "        text-align: right;\n",
       "    }\n",
       "</style>\n",
       "<table border=\"1\" class=\"dataframe\">\n",
       "  <thead>\n",
       "    <tr style=\"text-align: right;\">\n",
       "      <th></th>\n",
       "      <th>A</th>\n",
       "      <th>B</th>\n",
       "      <th>C</th>\n",
       "      <th>D</th>\n",
       "    </tr>\n",
       "  </thead>\n",
       "  <tbody>\n",
       "    <tr>\n",
       "      <th>2023-06-01</th>\n",
       "      <td>1.004906</td>\n",
       "      <td>1.263361</td>\n",
       "      <td>0.009152</td>\n",
       "      <td>0.632351</td>\n",
       "    </tr>\n",
       "    <tr>\n",
       "      <th>2023-06-02</th>\n",
       "      <td>0.295000</td>\n",
       "      <td>-1.331769</td>\n",
       "      <td>0.636464</td>\n",
       "      <td>-0.969755</td>\n",
       "    </tr>\n",
       "    <tr>\n",
       "      <th>2023-06-03</th>\n",
       "      <td>0.521974</td>\n",
       "      <td>0.990781</td>\n",
       "      <td>-0.702545</td>\n",
       "      <td>-0.081492</td>\n",
       "    </tr>\n",
       "  </tbody>\n",
       "</table>\n",
       "</div>"
      ],
      "text/plain": [
       "                   A         B         C         D\n",
       "2023-06-01  1.004906  1.263361  0.009152  0.632351\n",
       "2023-06-02  0.295000 -1.331769  0.636464 -0.969755\n",
       "2023-06-03  0.521974  0.990781 -0.702545 -0.081492"
      ]
     },
     "execution_count": 51,
     "metadata": {},
     "output_type": "execute_result"
    }
   ],
   "source": [
    "df.tail(3)"
   ]
  },
  {
   "cell_type": "code",
   "execution_count": null,
   "id": "a7dea265",
   "metadata": {},
   "outputs": [
    {
     "data": {
      "text/plain": [
       "DatetimeIndex(['2023-05-29', '2023-05-30', '2023-05-31', '2023-06-01',\n",
       "               '2023-06-02', '2023-06-03'],\n",
       "              dtype='datetime64[ns]', freq='D')"
      ]
     },
     "execution_count": 53,
     "metadata": {},
     "output_type": "execute_result"
    }
   ],
   "source": [
    "df.index"
   ]
  },
  {
   "cell_type": "code",
   "execution_count": null,
   "id": "67aba05b",
   "metadata": {},
   "outputs": [
    {
     "data": {
      "text/html": [
       "<div>\n",
       "<style scoped>\n",
       "    .dataframe tbody tr th:only-of-type {\n",
       "        vertical-align: middle;\n",
       "    }\n",
       "\n",
       "    .dataframe tbody tr th {\n",
       "        vertical-align: top;\n",
       "    }\n",
       "\n",
       "    .dataframe thead th {\n",
       "        text-align: right;\n",
       "    }\n",
       "</style>\n",
       "<table border=\"1\" class=\"dataframe\">\n",
       "  <thead>\n",
       "    <tr style=\"text-align: right;\">\n",
       "      <th></th>\n",
       "      <th>2023-05-29</th>\n",
       "      <th>2023-05-30</th>\n",
       "      <th>2023-05-31</th>\n",
       "      <th>2023-06-01</th>\n",
       "      <th>2023-06-02</th>\n",
       "      <th>2023-06-03</th>\n",
       "    </tr>\n",
       "  </thead>\n",
       "  <tbody>\n",
       "    <tr>\n",
       "      <th>A</th>\n",
       "      <td>-1.037032</td>\n",
       "      <td>-0.409902</td>\n",
       "      <td>-1.757233</td>\n",
       "      <td>1.004906</td>\n",
       "      <td>0.295000</td>\n",
       "      <td>0.521974</td>\n",
       "    </tr>\n",
       "    <tr>\n",
       "      <th>B</th>\n",
       "      <td>0.842239</td>\n",
       "      <td>1.448219</td>\n",
       "      <td>0.806037</td>\n",
       "      <td>1.263361</td>\n",
       "      <td>-1.331769</td>\n",
       "      <td>0.990781</td>\n",
       "    </tr>\n",
       "    <tr>\n",
       "      <th>C</th>\n",
       "      <td>-0.052414</td>\n",
       "      <td>-0.003517</td>\n",
       "      <td>0.081484</td>\n",
       "      <td>0.009152</td>\n",
       "      <td>0.636464</td>\n",
       "      <td>-0.702545</td>\n",
       "    </tr>\n",
       "    <tr>\n",
       "      <th>D</th>\n",
       "      <td>-0.297150</td>\n",
       "      <td>0.718898</td>\n",
       "      <td>0.935362</td>\n",
       "      <td>0.632351</td>\n",
       "      <td>-0.969755</td>\n",
       "      <td>-0.081492</td>\n",
       "    </tr>\n",
       "  </tbody>\n",
       "</table>\n",
       "</div>"
      ],
      "text/plain": [
       "   2023-05-29  2023-05-30  2023-05-31  2023-06-01  2023-06-02  2023-06-03\n",
       "A   -1.037032   -0.409902   -1.757233    1.004906    0.295000    0.521974\n",
       "B    0.842239    1.448219    0.806037    1.263361   -1.331769    0.990781\n",
       "C   -0.052414   -0.003517    0.081484    0.009152    0.636464   -0.702545\n",
       "D   -0.297150    0.718898    0.935362    0.632351   -0.969755   -0.081492"
      ]
     },
     "execution_count": 54,
     "metadata": {},
     "output_type": "execute_result"
    }
   ],
   "source": [
    "df.T"
   ]
  },
  {
   "cell_type": "code",
   "execution_count": null,
   "id": "0ae532f1",
   "metadata": {},
   "outputs": [
    {
     "data": {
      "text/html": [
       "<div>\n",
       "<style scoped>\n",
       "    .dataframe tbody tr th:only-of-type {\n",
       "        vertical-align: middle;\n",
       "    }\n",
       "\n",
       "    .dataframe tbody tr th {\n",
       "        vertical-align: top;\n",
       "    }\n",
       "\n",
       "    .dataframe thead th {\n",
       "        text-align: right;\n",
       "    }\n",
       "</style>\n",
       "<table border=\"1\" class=\"dataframe\">\n",
       "  <thead>\n",
       "    <tr style=\"text-align: right;\">\n",
       "      <th></th>\n",
       "      <th>A</th>\n",
       "      <th>B</th>\n",
       "      <th>C</th>\n",
       "      <th>D</th>\n",
       "    </tr>\n",
       "  </thead>\n",
       "  <tbody>\n",
       "    <tr>\n",
       "      <th>2023-06-02</th>\n",
       "      <td>0.295000</td>\n",
       "      <td>-1.331769</td>\n",
       "      <td>0.636464</td>\n",
       "      <td>-0.969755</td>\n",
       "    </tr>\n",
       "    <tr>\n",
       "      <th>2023-05-31</th>\n",
       "      <td>-1.757233</td>\n",
       "      <td>0.806037</td>\n",
       "      <td>0.081484</td>\n",
       "      <td>0.935362</td>\n",
       "    </tr>\n",
       "    <tr>\n",
       "      <th>2023-05-29</th>\n",
       "      <td>-1.037032</td>\n",
       "      <td>0.842239</td>\n",
       "      <td>-0.052414</td>\n",
       "      <td>-0.297150</td>\n",
       "    </tr>\n",
       "    <tr>\n",
       "      <th>2023-06-03</th>\n",
       "      <td>0.521974</td>\n",
       "      <td>0.990781</td>\n",
       "      <td>-0.702545</td>\n",
       "      <td>-0.081492</td>\n",
       "    </tr>\n",
       "    <tr>\n",
       "      <th>2023-06-01</th>\n",
       "      <td>1.004906</td>\n",
       "      <td>1.263361</td>\n",
       "      <td>0.009152</td>\n",
       "      <td>0.632351</td>\n",
       "    </tr>\n",
       "    <tr>\n",
       "      <th>2023-05-30</th>\n",
       "      <td>-0.409902</td>\n",
       "      <td>1.448219</td>\n",
       "      <td>-0.003517</td>\n",
       "      <td>0.718898</td>\n",
       "    </tr>\n",
       "  </tbody>\n",
       "</table>\n",
       "</div>"
      ],
      "text/plain": [
       "                   A         B         C         D\n",
       "2023-06-02  0.295000 -1.331769  0.636464 -0.969755\n",
       "2023-05-31 -1.757233  0.806037  0.081484  0.935362\n",
       "2023-05-29 -1.037032  0.842239 -0.052414 -0.297150\n",
       "2023-06-03  0.521974  0.990781 -0.702545 -0.081492\n",
       "2023-06-01  1.004906  1.263361  0.009152  0.632351\n",
       "2023-05-30 -0.409902  1.448219 -0.003517  0.718898"
      ]
     },
     "execution_count": 55,
     "metadata": {},
     "output_type": "execute_result"
    }
   ],
   "source": [
    "df.sort_values(by='B')"
   ]
  },
  {
   "cell_type": "code",
   "execution_count": null,
   "id": "2b24f670",
   "metadata": {},
   "outputs": [
    {
     "data": {
      "text/html": [
       "<div>\n",
       "<style scoped>\n",
       "    .dataframe tbody tr th:only-of-type {\n",
       "        vertical-align: middle;\n",
       "    }\n",
       "\n",
       "    .dataframe tbody tr th {\n",
       "        vertical-align: top;\n",
       "    }\n",
       "\n",
       "    .dataframe thead th {\n",
       "        text-align: right;\n",
       "    }\n",
       "</style>\n",
       "<table border=\"1\" class=\"dataframe\">\n",
       "  <thead>\n",
       "    <tr style=\"text-align: right;\">\n",
       "      <th></th>\n",
       "      <th>A</th>\n",
       "      <th>B</th>\n",
       "      <th>C</th>\n",
       "      <th>D</th>\n",
       "    </tr>\n",
       "  </thead>\n",
       "  <tbody>\n",
       "    <tr>\n",
       "      <th>2023-05-29</th>\n",
       "      <td>-1.037032</td>\n",
       "      <td>0.842239</td>\n",
       "      <td>-0.052414</td>\n",
       "      <td>-0.297150</td>\n",
       "    </tr>\n",
       "    <tr>\n",
       "      <th>2023-05-30</th>\n",
       "      <td>-0.409902</td>\n",
       "      <td>1.448219</td>\n",
       "      <td>-0.003517</td>\n",
       "      <td>0.718898</td>\n",
       "    </tr>\n",
       "    <tr>\n",
       "      <th>2023-05-31</th>\n",
       "      <td>-1.757233</td>\n",
       "      <td>0.806037</td>\n",
       "      <td>0.081484</td>\n",
       "      <td>0.935362</td>\n",
       "    </tr>\n",
       "  </tbody>\n",
       "</table>\n",
       "</div>"
      ],
      "text/plain": [
       "                   A         B         C         D\n",
       "2023-05-29 -1.037032  0.842239 -0.052414 -0.297150\n",
       "2023-05-30 -0.409902  1.448219 -0.003517  0.718898\n",
       "2023-05-31 -1.757233  0.806037  0.081484  0.935362"
      ]
     },
     "execution_count": 56,
     "metadata": {},
     "output_type": "execute_result"
    }
   ],
   "source": [
    "df[0:3]"
   ]
  },
  {
   "cell_type": "code",
   "execution_count": null,
   "id": "b646e595",
   "metadata": {},
   "outputs": [
    {
     "data": {
      "text/plain": [
       "A   -1.037032\n",
       "B    0.842239\n",
       "C   -0.052414\n",
       "D   -0.297150\n",
       "Name: 2023-05-29 00:00:00, dtype: float64"
      ]
     },
     "execution_count": 59,
     "metadata": {},
     "output_type": "execute_result"
    }
   ],
   "source": [
    "df.loc['20230529']"
   ]
  },
  {
   "cell_type": "code",
   "execution_count": null,
   "id": "bd46ec0e",
   "metadata": {},
   "outputs": [
    {
     "data": {
      "text/html": [
       "<div>\n",
       "<style scoped>\n",
       "    .dataframe tbody tr th:only-of-type {\n",
       "        vertical-align: middle;\n",
       "    }\n",
       "\n",
       "    .dataframe tbody tr th {\n",
       "        vertical-align: top;\n",
       "    }\n",
       "\n",
       "    .dataframe thead th {\n",
       "        text-align: right;\n",
       "    }\n",
       "</style>\n",
       "<table border=\"1\" class=\"dataframe\">\n",
       "  <thead>\n",
       "    <tr style=\"text-align: right;\">\n",
       "      <th></th>\n",
       "      <th>A</th>\n",
       "      <th>B</th>\n",
       "      <th>C</th>\n",
       "      <th>D</th>\n",
       "    </tr>\n",
       "  </thead>\n",
       "  <tbody>\n",
       "    <tr>\n",
       "      <th>2023-05-29</th>\n",
       "      <td>NaN</td>\n",
       "      <td>0.842239</td>\n",
       "      <td>NaN</td>\n",
       "      <td>NaN</td>\n",
       "    </tr>\n",
       "    <tr>\n",
       "      <th>2023-05-30</th>\n",
       "      <td>NaN</td>\n",
       "      <td>1.448219</td>\n",
       "      <td>NaN</td>\n",
       "      <td>0.718898</td>\n",
       "    </tr>\n",
       "    <tr>\n",
       "      <th>2023-05-31</th>\n",
       "      <td>NaN</td>\n",
       "      <td>0.806037</td>\n",
       "      <td>0.081484</td>\n",
       "      <td>0.935362</td>\n",
       "    </tr>\n",
       "    <tr>\n",
       "      <th>2023-06-01</th>\n",
       "      <td>1.004906</td>\n",
       "      <td>1.263361</td>\n",
       "      <td>0.009152</td>\n",
       "      <td>0.632351</td>\n",
       "    </tr>\n",
       "    <tr>\n",
       "      <th>2023-06-02</th>\n",
       "      <td>0.295000</td>\n",
       "      <td>NaN</td>\n",
       "      <td>0.636464</td>\n",
       "      <td>NaN</td>\n",
       "    </tr>\n",
       "    <tr>\n",
       "      <th>2023-06-03</th>\n",
       "      <td>0.521974</td>\n",
       "      <td>0.990781</td>\n",
       "      <td>NaN</td>\n",
       "      <td>NaN</td>\n",
       "    </tr>\n",
       "  </tbody>\n",
       "</table>\n",
       "</div>"
      ],
      "text/plain": [
       "                   A         B         C         D\n",
       "2023-05-29       NaN  0.842239       NaN       NaN\n",
       "2023-05-30       NaN  1.448219       NaN  0.718898\n",
       "2023-05-31       NaN  0.806037  0.081484  0.935362\n",
       "2023-06-01  1.004906  1.263361  0.009152  0.632351\n",
       "2023-06-02  0.295000       NaN  0.636464       NaN\n",
       "2023-06-03  0.521974  0.990781       NaN       NaN"
      ]
     },
     "execution_count": 60,
     "metadata": {},
     "output_type": "execute_result"
    }
   ],
   "source": [
    "df[df > 0]"
   ]
  },
  {
   "cell_type": "code",
   "execution_count": null,
   "id": "162d3596",
   "metadata": {},
   "outputs": [],
   "source": [
    "df2 = df.copy()\n",
    "df2['E'] = ['one', 'two', 'three', 'four', 'five', 'six']"
   ]
  },
  {
   "cell_type": "code",
   "execution_count": null,
   "id": "c063a3ac",
   "metadata": {},
   "outputs": [
    {
     "data": {
      "text/html": [
       "<div>\n",
       "<style scoped>\n",
       "    .dataframe tbody tr th:only-of-type {\n",
       "        vertical-align: middle;\n",
       "    }\n",
       "\n",
       "    .dataframe tbody tr th {\n",
       "        vertical-align: top;\n",
       "    }\n",
       "\n",
       "    .dataframe thead th {\n",
       "        text-align: right;\n",
       "    }\n",
       "</style>\n",
       "<table border=\"1\" class=\"dataframe\">\n",
       "  <thead>\n",
       "    <tr style=\"text-align: right;\">\n",
       "      <th></th>\n",
       "      <th>A</th>\n",
       "      <th>B</th>\n",
       "      <th>C</th>\n",
       "      <th>D</th>\n",
       "      <th>E</th>\n",
       "    </tr>\n",
       "  </thead>\n",
       "  <tbody>\n",
       "    <tr>\n",
       "      <th>2023-05-29</th>\n",
       "      <td>-1.037032</td>\n",
       "      <td>0.842239</td>\n",
       "      <td>-0.052414</td>\n",
       "      <td>-0.297150</td>\n",
       "      <td>one</td>\n",
       "    </tr>\n",
       "    <tr>\n",
       "      <th>2023-05-30</th>\n",
       "      <td>-0.409902</td>\n",
       "      <td>1.448219</td>\n",
       "      <td>-0.003517</td>\n",
       "      <td>0.718898</td>\n",
       "      <td>two</td>\n",
       "    </tr>\n",
       "    <tr>\n",
       "      <th>2023-05-31</th>\n",
       "      <td>-1.757233</td>\n",
       "      <td>0.806037</td>\n",
       "      <td>0.081484</td>\n",
       "      <td>0.935362</td>\n",
       "      <td>three</td>\n",
       "    </tr>\n",
       "    <tr>\n",
       "      <th>2023-06-01</th>\n",
       "      <td>1.004906</td>\n",
       "      <td>1.263361</td>\n",
       "      <td>0.009152</td>\n",
       "      <td>0.632351</td>\n",
       "      <td>four</td>\n",
       "    </tr>\n",
       "    <tr>\n",
       "      <th>2023-06-02</th>\n",
       "      <td>0.295000</td>\n",
       "      <td>-1.331769</td>\n",
       "      <td>0.636464</td>\n",
       "      <td>-0.969755</td>\n",
       "      <td>five</td>\n",
       "    </tr>\n",
       "    <tr>\n",
       "      <th>2023-06-03</th>\n",
       "      <td>0.521974</td>\n",
       "      <td>0.990781</td>\n",
       "      <td>-0.702545</td>\n",
       "      <td>-0.081492</td>\n",
       "      <td>six</td>\n",
       "    </tr>\n",
       "  </tbody>\n",
       "</table>\n",
       "</div>"
      ],
      "text/plain": [
       "                   A         B         C         D      E\n",
       "2023-05-29 -1.037032  0.842239 -0.052414 -0.297150    one\n",
       "2023-05-30 -0.409902  1.448219 -0.003517  0.718898    two\n",
       "2023-05-31 -1.757233  0.806037  0.081484  0.935362  three\n",
       "2023-06-01  1.004906  1.263361  0.009152  0.632351   four\n",
       "2023-06-02  0.295000 -1.331769  0.636464 -0.969755   five\n",
       "2023-06-03  0.521974  0.990781 -0.702545 -0.081492    six"
      ]
     },
     "execution_count": 62,
     "metadata": {},
     "output_type": "execute_result"
    }
   ],
   "source": [
    "df2"
   ]
  },
  {
   "cell_type": "code",
   "execution_count": null,
   "id": "99bababa",
   "metadata": {},
   "outputs": [
    {
     "data": {
      "text/html": [
       "<div>\n",
       "<style scoped>\n",
       "    .dataframe tbody tr th:only-of-type {\n",
       "        vertical-align: middle;\n",
       "    }\n",
       "\n",
       "    .dataframe tbody tr th {\n",
       "        vertical-align: top;\n",
       "    }\n",
       "\n",
       "    .dataframe thead th {\n",
       "        text-align: right;\n",
       "    }\n",
       "</style>\n",
       "<table border=\"1\" class=\"dataframe\">\n",
       "  <thead>\n",
       "    <tr style=\"text-align: right;\">\n",
       "      <th></th>\n",
       "      <th>A</th>\n",
       "      <th>B</th>\n",
       "      <th>C</th>\n",
       "      <th>D</th>\n",
       "    </tr>\n",
       "  </thead>\n",
       "  <tbody>\n",
       "    <tr>\n",
       "      <th>2023-05-29</th>\n",
       "      <td>NaN</td>\n",
       "      <td>NaN</td>\n",
       "      <td>NaN</td>\n",
       "      <td>NaN</td>\n",
       "    </tr>\n",
       "    <tr>\n",
       "      <th>2023-05-30</th>\n",
       "      <td>-1.037032</td>\n",
       "      <td>0.842239</td>\n",
       "      <td>-0.052414</td>\n",
       "      <td>-0.297150</td>\n",
       "    </tr>\n",
       "    <tr>\n",
       "      <th>2023-05-31</th>\n",
       "      <td>-0.409902</td>\n",
       "      <td>1.448219</td>\n",
       "      <td>-0.003517</td>\n",
       "      <td>0.718898</td>\n",
       "    </tr>\n",
       "    <tr>\n",
       "      <th>2023-06-01</th>\n",
       "      <td>-1.757233</td>\n",
       "      <td>0.806037</td>\n",
       "      <td>0.081484</td>\n",
       "      <td>0.935362</td>\n",
       "    </tr>\n",
       "    <tr>\n",
       "      <th>2023-06-02</th>\n",
       "      <td>1.004906</td>\n",
       "      <td>1.263361</td>\n",
       "      <td>0.009152</td>\n",
       "      <td>0.632351</td>\n",
       "    </tr>\n",
       "    <tr>\n",
       "      <th>2023-06-03</th>\n",
       "      <td>0.295000</td>\n",
       "      <td>-1.331769</td>\n",
       "      <td>0.636464</td>\n",
       "      <td>-0.969755</td>\n",
       "    </tr>\n",
       "  </tbody>\n",
       "</table>\n",
       "</div>"
      ],
      "text/plain": [
       "                   A         B         C         D\n",
       "2023-05-29       NaN       NaN       NaN       NaN\n",
       "2023-05-30 -1.037032  0.842239 -0.052414 -0.297150\n",
       "2023-05-31 -0.409902  1.448219 -0.003517  0.718898\n",
       "2023-06-01 -1.757233  0.806037  0.081484  0.935362\n",
       "2023-06-02  1.004906  1.263361  0.009152  0.632351\n",
       "2023-06-03  0.295000 -1.331769  0.636464 -0.969755"
      ]
     },
     "execution_count": 63,
     "metadata": {},
     "output_type": "execute_result"
    }
   ],
   "source": [
    "df.shift(1)"
   ]
  },
  {
   "cell_type": "code",
   "execution_count": null,
   "id": "739d4dc3",
   "metadata": {},
   "outputs": [],
   "source": [
    "df = pd.DataFrame(np.random.randn(2, 2))"
   ]
  },
  {
   "cell_type": "code",
   "execution_count": null,
   "id": "b79b5710",
   "metadata": {},
   "outputs": [
    {
     "data": {
      "text/html": [
       "<div>\n",
       "<style scoped>\n",
       "    .dataframe tbody tr th:only-of-type {\n",
       "        vertical-align: middle;\n",
       "    }\n",
       "\n",
       "    .dataframe tbody tr th {\n",
       "        vertical-align: top;\n",
       "    }\n",
       "\n",
       "    .dataframe thead th {\n",
       "        text-align: right;\n",
       "    }\n",
       "</style>\n",
       "<table border=\"1\" class=\"dataframe\">\n",
       "  <thead>\n",
       "    <tr style=\"text-align: right;\">\n",
       "      <th></th>\n",
       "      <th>0</th>\n",
       "      <th>1</th>\n",
       "    </tr>\n",
       "  </thead>\n",
       "  <tbody>\n",
       "    <tr>\n",
       "      <th>0</th>\n",
       "      <td>0.854284</td>\n",
       "      <td>-0.676794</td>\n",
       "    </tr>\n",
       "    <tr>\n",
       "      <th>1</th>\n",
       "      <td>-0.417203</td>\n",
       "      <td>1.830567</td>\n",
       "    </tr>\n",
       "  </tbody>\n",
       "</table>\n",
       "</div>"
      ],
      "text/plain": [
       "          0         1\n",
       "0  0.854284 -0.676794\n",
       "1 -0.417203  1.830567"
      ]
     },
     "execution_count": 65,
     "metadata": {},
     "output_type": "execute_result"
    }
   ],
   "source": [
    "df"
   ]
  },
  {
   "cell_type": "code",
   "execution_count": null,
   "id": "cd50a99d",
   "metadata": {},
   "outputs": [
    {
     "data": {
      "text/html": [
       "<div>\n",
       "<style scoped>\n",
       "    .dataframe tbody tr th:only-of-type {\n",
       "        vertical-align: middle;\n",
       "    }\n",
       "\n",
       "    .dataframe tbody tr th {\n",
       "        vertical-align: top;\n",
       "    }\n",
       "\n",
       "    .dataframe thead th {\n",
       "        text-align: right;\n",
       "    }\n",
       "</style>\n",
       "<table border=\"1\" class=\"dataframe\">\n",
       "  <thead>\n",
       "    <tr style=\"text-align: right;\">\n",
       "      <th></th>\n",
       "      <th>0</th>\n",
       "      <th>1</th>\n",
       "    </tr>\n",
       "  </thead>\n",
       "  <tbody>\n",
       "    <tr>\n",
       "      <th>0</th>\n",
       "      <td>0.854284</td>\n",
       "      <td>-0.676794</td>\n",
       "    </tr>\n",
       "    <tr>\n",
       "      <th>1</th>\n",
       "      <td>-0.417203</td>\n",
       "      <td>1.830567</td>\n",
       "    </tr>\n",
       "    <tr>\n",
       "      <th>0</th>\n",
       "      <td>0.854284</td>\n",
       "      <td>-0.676794</td>\n",
       "    </tr>\n",
       "    <tr>\n",
       "      <th>1</th>\n",
       "      <td>-0.417203</td>\n",
       "      <td>1.830567</td>\n",
       "    </tr>\n",
       "  </tbody>\n",
       "</table>\n",
       "</div>"
      ],
      "text/plain": [
       "          0         1\n",
       "0  0.854284 -0.676794\n",
       "1 -0.417203  1.830567\n",
       "0  0.854284 -0.676794\n",
       "1 -0.417203  1.830567"
      ]
     },
     "execution_count": 67,
     "metadata": {},
     "output_type": "execute_result"
    }
   ],
   "source": [
    "pd.concat([df,df])"
   ]
  },
  {
   "cell_type": "code",
   "execution_count": null,
   "id": "43771972",
   "metadata": {},
   "outputs": [],
   "source": [
    "df = pd.DataFrame(np.random.rand(8,4), columns = ['A', 'B', 'C', 'D'])"
   ]
  },
  {
   "cell_type": "code",
   "execution_count": null,
   "id": "c09082a7",
   "metadata": {},
   "outputs": [
    {
     "data": {
      "text/html": [
       "<div>\n",
       "<style scoped>\n",
       "    .dataframe tbody tr th:only-of-type {\n",
       "        vertical-align: middle;\n",
       "    }\n",
       "\n",
       "    .dataframe tbody tr th {\n",
       "        vertical-align: top;\n",
       "    }\n",
       "\n",
       "    .dataframe thead th {\n",
       "        text-align: right;\n",
       "    }\n",
       "</style>\n",
       "<table border=\"1\" class=\"dataframe\">\n",
       "  <thead>\n",
       "    <tr style=\"text-align: right;\">\n",
       "      <th></th>\n",
       "      <th>A</th>\n",
       "      <th>B</th>\n",
       "      <th>C</th>\n",
       "      <th>D</th>\n",
       "    </tr>\n",
       "  </thead>\n",
       "  <tbody>\n",
       "    <tr>\n",
       "      <th>0</th>\n",
       "      <td>0.974222</td>\n",
       "      <td>0.920382</td>\n",
       "      <td>0.397204</td>\n",
       "      <td>0.896747</td>\n",
       "    </tr>\n",
       "    <tr>\n",
       "      <th>1</th>\n",
       "      <td>0.556069</td>\n",
       "      <td>0.563676</td>\n",
       "      <td>0.141093</td>\n",
       "      <td>0.248480</td>\n",
       "    </tr>\n",
       "    <tr>\n",
       "      <th>2</th>\n",
       "      <td>0.497131</td>\n",
       "      <td>0.155494</td>\n",
       "      <td>0.829690</td>\n",
       "      <td>0.243581</td>\n",
       "    </tr>\n",
       "    <tr>\n",
       "      <th>3</th>\n",
       "      <td>0.725183</td>\n",
       "      <td>0.595320</td>\n",
       "      <td>0.044698</td>\n",
       "      <td>0.423258</td>\n",
       "    </tr>\n",
       "    <tr>\n",
       "      <th>4</th>\n",
       "      <td>0.755469</td>\n",
       "      <td>0.876086</td>\n",
       "      <td>0.060154</td>\n",
       "      <td>0.958160</td>\n",
       "    </tr>\n",
       "    <tr>\n",
       "      <th>5</th>\n",
       "      <td>0.074588</td>\n",
       "      <td>0.369937</td>\n",
       "      <td>0.315548</td>\n",
       "      <td>0.596158</td>\n",
       "    </tr>\n",
       "    <tr>\n",
       "      <th>6</th>\n",
       "      <td>0.847978</td>\n",
       "      <td>0.487902</td>\n",
       "      <td>0.953976</td>\n",
       "      <td>0.902909</td>\n",
       "    </tr>\n",
       "    <tr>\n",
       "      <th>7</th>\n",
       "      <td>0.451872</td>\n",
       "      <td>0.786661</td>\n",
       "      <td>0.192892</td>\n",
       "      <td>0.358130</td>\n",
       "    </tr>\n",
       "  </tbody>\n",
       "</table>\n",
       "</div>"
      ],
      "text/plain": [
       "          A         B         C         D\n",
       "0  0.974222  0.920382  0.397204  0.896747\n",
       "1  0.556069  0.563676  0.141093  0.248480\n",
       "2  0.497131  0.155494  0.829690  0.243581\n",
       "3  0.725183  0.595320  0.044698  0.423258\n",
       "4  0.755469  0.876086  0.060154  0.958160\n",
       "5  0.074588  0.369937  0.315548  0.596158\n",
       "6  0.847978  0.487902  0.953976  0.902909\n",
       "7  0.451872  0.786661  0.192892  0.358130"
      ]
     },
     "execution_count": 69,
     "metadata": {},
     "output_type": "execute_result"
    }
   ],
   "source": [
    "df"
   ]
  },
  {
   "cell_type": "code",
   "execution_count": null,
   "id": "ac08b446",
   "metadata": {},
   "outputs": [
    {
     "data": {
      "text/plain": [
       "A    0.974222\n",
       "B    0.920382\n",
       "C    0.397204\n",
       "D    0.896747\n",
       "Name: 0, dtype: float64"
      ]
     },
     "execution_count": 70,
     "metadata": {},
     "output_type": "execute_result"
    }
   ],
   "source": [
    "s = df.iloc[0]\n",
    "s"
   ]
  },
  {
   "cell_type": "code",
   "execution_count": null,
   "id": "340e92af",
   "metadata": {},
   "outputs": [
    {
     "name": "stderr",
     "output_type": "stream",
     "text": [
      "/var/folders/pl/l83vr0j523j0hp3dngvsrhqc0000gn/T/ipykernel_22060/1523617293.py:1: FutureWarning: The frame.append method is deprecated and will be removed from pandas in a future version. Use pandas.concat instead.\n",
      "  df.append(s)\n"
     ]
    },
    {
     "data": {
      "text/html": [
       "<div>\n",
       "<style scoped>\n",
       "    .dataframe tbody tr th:only-of-type {\n",
       "        vertical-align: middle;\n",
       "    }\n",
       "\n",
       "    .dataframe tbody tr th {\n",
       "        vertical-align: top;\n",
       "    }\n",
       "\n",
       "    .dataframe thead th {\n",
       "        text-align: right;\n",
       "    }\n",
       "</style>\n",
       "<table border=\"1\" class=\"dataframe\">\n",
       "  <thead>\n",
       "    <tr style=\"text-align: right;\">\n",
       "      <th></th>\n",
       "      <th>A</th>\n",
       "      <th>B</th>\n",
       "      <th>C</th>\n",
       "      <th>D</th>\n",
       "    </tr>\n",
       "  </thead>\n",
       "  <tbody>\n",
       "    <tr>\n",
       "      <th>0</th>\n",
       "      <td>0.974222</td>\n",
       "      <td>0.920382</td>\n",
       "      <td>0.397204</td>\n",
       "      <td>0.896747</td>\n",
       "    </tr>\n",
       "    <tr>\n",
       "      <th>1</th>\n",
       "      <td>0.556069</td>\n",
       "      <td>0.563676</td>\n",
       "      <td>0.141093</td>\n",
       "      <td>0.248480</td>\n",
       "    </tr>\n",
       "    <tr>\n",
       "      <th>2</th>\n",
       "      <td>0.497131</td>\n",
       "      <td>0.155494</td>\n",
       "      <td>0.829690</td>\n",
       "      <td>0.243581</td>\n",
       "    </tr>\n",
       "    <tr>\n",
       "      <th>3</th>\n",
       "      <td>0.725183</td>\n",
       "      <td>0.595320</td>\n",
       "      <td>0.044698</td>\n",
       "      <td>0.423258</td>\n",
       "    </tr>\n",
       "    <tr>\n",
       "      <th>4</th>\n",
       "      <td>0.755469</td>\n",
       "      <td>0.876086</td>\n",
       "      <td>0.060154</td>\n",
       "      <td>0.958160</td>\n",
       "    </tr>\n",
       "    <tr>\n",
       "      <th>5</th>\n",
       "      <td>0.074588</td>\n",
       "      <td>0.369937</td>\n",
       "      <td>0.315548</td>\n",
       "      <td>0.596158</td>\n",
       "    </tr>\n",
       "    <tr>\n",
       "      <th>6</th>\n",
       "      <td>0.847978</td>\n",
       "      <td>0.487902</td>\n",
       "      <td>0.953976</td>\n",
       "      <td>0.902909</td>\n",
       "    </tr>\n",
       "    <tr>\n",
       "      <th>7</th>\n",
       "      <td>0.451872</td>\n",
       "      <td>0.786661</td>\n",
       "      <td>0.192892</td>\n",
       "      <td>0.358130</td>\n",
       "    </tr>\n",
       "    <tr>\n",
       "      <th>0</th>\n",
       "      <td>0.974222</td>\n",
       "      <td>0.920382</td>\n",
       "      <td>0.397204</td>\n",
       "      <td>0.896747</td>\n",
       "    </tr>\n",
       "  </tbody>\n",
       "</table>\n",
       "</div>"
      ],
      "text/plain": [
       "          A         B         C         D\n",
       "0  0.974222  0.920382  0.397204  0.896747\n",
       "1  0.556069  0.563676  0.141093  0.248480\n",
       "2  0.497131  0.155494  0.829690  0.243581\n",
       "3  0.725183  0.595320  0.044698  0.423258\n",
       "4  0.755469  0.876086  0.060154  0.958160\n",
       "5  0.074588  0.369937  0.315548  0.596158\n",
       "6  0.847978  0.487902  0.953976  0.902909\n",
       "7  0.451872  0.786661  0.192892  0.358130\n",
       "0  0.974222  0.920382  0.397204  0.896747"
      ]
     },
     "execution_count": 71,
     "metadata": {},
     "output_type": "execute_result"
    }
   ],
   "source": [
    "df.append(s)"
   ]
  },
  {
   "cell_type": "code",
   "execution_count": null,
   "id": "a9ff3572",
   "metadata": {},
   "outputs": [
    {
     "name": "stderr",
     "output_type": "stream",
     "text": [
      "/var/folders/pl/l83vr0j523j0hp3dngvsrhqc0000gn/T/ipykernel_22060/4011806271.py:1: FutureWarning: The frame.append method is deprecated and will be removed from pandas in a future version. Use pandas.concat instead.\n",
      "  df.append(s, ignore_index=True)\n"
     ]
    },
    {
     "data": {
      "text/html": [
       "<div>\n",
       "<style scoped>\n",
       "    .dataframe tbody tr th:only-of-type {\n",
       "        vertical-align: middle;\n",
       "    }\n",
       "\n",
       "    .dataframe tbody tr th {\n",
       "        vertical-align: top;\n",
       "    }\n",
       "\n",
       "    .dataframe thead th {\n",
       "        text-align: right;\n",
       "    }\n",
       "</style>\n",
       "<table border=\"1\" class=\"dataframe\">\n",
       "  <thead>\n",
       "    <tr style=\"text-align: right;\">\n",
       "      <th></th>\n",
       "      <th>A</th>\n",
       "      <th>B</th>\n",
       "      <th>C</th>\n",
       "      <th>D</th>\n",
       "    </tr>\n",
       "  </thead>\n",
       "  <tbody>\n",
       "    <tr>\n",
       "      <th>0</th>\n",
       "      <td>0.974222</td>\n",
       "      <td>0.920382</td>\n",
       "      <td>0.397204</td>\n",
       "      <td>0.896747</td>\n",
       "    </tr>\n",
       "    <tr>\n",
       "      <th>1</th>\n",
       "      <td>0.556069</td>\n",
       "      <td>0.563676</td>\n",
       "      <td>0.141093</td>\n",
       "      <td>0.248480</td>\n",
       "    </tr>\n",
       "    <tr>\n",
       "      <th>2</th>\n",
       "      <td>0.497131</td>\n",
       "      <td>0.155494</td>\n",
       "      <td>0.829690</td>\n",
       "      <td>0.243581</td>\n",
       "    </tr>\n",
       "    <tr>\n",
       "      <th>3</th>\n",
       "      <td>0.725183</td>\n",
       "      <td>0.595320</td>\n",
       "      <td>0.044698</td>\n",
       "      <td>0.423258</td>\n",
       "    </tr>\n",
       "    <tr>\n",
       "      <th>4</th>\n",
       "      <td>0.755469</td>\n",
       "      <td>0.876086</td>\n",
       "      <td>0.060154</td>\n",
       "      <td>0.958160</td>\n",
       "    </tr>\n",
       "    <tr>\n",
       "      <th>5</th>\n",
       "      <td>0.074588</td>\n",
       "      <td>0.369937</td>\n",
       "      <td>0.315548</td>\n",
       "      <td>0.596158</td>\n",
       "    </tr>\n",
       "    <tr>\n",
       "      <th>6</th>\n",
       "      <td>0.847978</td>\n",
       "      <td>0.487902</td>\n",
       "      <td>0.953976</td>\n",
       "      <td>0.902909</td>\n",
       "    </tr>\n",
       "    <tr>\n",
       "      <th>7</th>\n",
       "      <td>0.451872</td>\n",
       "      <td>0.786661</td>\n",
       "      <td>0.192892</td>\n",
       "      <td>0.358130</td>\n",
       "    </tr>\n",
       "    <tr>\n",
       "      <th>8</th>\n",
       "      <td>0.974222</td>\n",
       "      <td>0.920382</td>\n",
       "      <td>0.397204</td>\n",
       "      <td>0.896747</td>\n",
       "    </tr>\n",
       "  </tbody>\n",
       "</table>\n",
       "</div>"
      ],
      "text/plain": [
       "          A         B         C         D\n",
       "0  0.974222  0.920382  0.397204  0.896747\n",
       "1  0.556069  0.563676  0.141093  0.248480\n",
       "2  0.497131  0.155494  0.829690  0.243581\n",
       "3  0.725183  0.595320  0.044698  0.423258\n",
       "4  0.755469  0.876086  0.060154  0.958160\n",
       "5  0.074588  0.369937  0.315548  0.596158\n",
       "6  0.847978  0.487902  0.953976  0.902909\n",
       "7  0.451872  0.786661  0.192892  0.358130\n",
       "8  0.974222  0.920382  0.397204  0.896747"
      ]
     },
     "execution_count": 72,
     "metadata": {},
     "output_type": "execute_result"
    }
   ],
   "source": [
    "df.append(s, ignore_index=True)"
   ]
  },
  {
   "cell_type": "code",
   "execution_count": null,
   "id": "ef1412a3",
   "metadata": {},
   "outputs": [],
   "source": [
    "df = pd.DataFrame({'A': ['foo', 'bar', 'foo', 'bar'], 'B': np.random.randn(4)})"
   ]
  },
  {
   "cell_type": "code",
   "execution_count": null,
   "id": "e4ddba91",
   "metadata": {},
   "outputs": [
    {
     "data": {
      "text/html": [
       "<div>\n",
       "<style scoped>\n",
       "    .dataframe tbody tr th:only-of-type {\n",
       "        vertical-align: middle;\n",
       "    }\n",
       "\n",
       "    .dataframe tbody tr th {\n",
       "        vertical-align: top;\n",
       "    }\n",
       "\n",
       "    .dataframe thead th {\n",
       "        text-align: right;\n",
       "    }\n",
       "</style>\n",
       "<table border=\"1\" class=\"dataframe\">\n",
       "  <thead>\n",
       "    <tr style=\"text-align: right;\">\n",
       "      <th></th>\n",
       "      <th>A</th>\n",
       "      <th>B</th>\n",
       "    </tr>\n",
       "  </thead>\n",
       "  <tbody>\n",
       "    <tr>\n",
       "      <th>0</th>\n",
       "      <td>foo</td>\n",
       "      <td>1.431709</td>\n",
       "    </tr>\n",
       "    <tr>\n",
       "      <th>1</th>\n",
       "      <td>bar</td>\n",
       "      <td>-2.108242</td>\n",
       "    </tr>\n",
       "    <tr>\n",
       "      <th>2</th>\n",
       "      <td>foo</td>\n",
       "      <td>1.358135</td>\n",
       "    </tr>\n",
       "    <tr>\n",
       "      <th>3</th>\n",
       "      <td>bar</td>\n",
       "      <td>-0.774564</td>\n",
       "    </tr>\n",
       "  </tbody>\n",
       "</table>\n",
       "</div>"
      ],
      "text/plain": [
       "     A         B\n",
       "0  foo  1.431709\n",
       "1  bar -2.108242\n",
       "2  foo  1.358135\n",
       "3  bar -0.774564"
      ]
     },
     "execution_count": 74,
     "metadata": {},
     "output_type": "execute_result"
    }
   ],
   "source": [
    "df"
   ]
  },
  {
   "cell_type": "code",
   "execution_count": null,
   "id": "7db2d3da",
   "metadata": {},
   "outputs": [
    {
     "data": {
      "text/html": [
       "<div>\n",
       "<style scoped>\n",
       "    .dataframe tbody tr th:only-of-type {\n",
       "        vertical-align: middle;\n",
       "    }\n",
       "\n",
       "    .dataframe tbody tr th {\n",
       "        vertical-align: top;\n",
       "    }\n",
       "\n",
       "    .dataframe thead th {\n",
       "        text-align: right;\n",
       "    }\n",
       "</style>\n",
       "<table border=\"1\" class=\"dataframe\">\n",
       "  <thead>\n",
       "    <tr style=\"text-align: right;\">\n",
       "      <th></th>\n",
       "      <th>B</th>\n",
       "    </tr>\n",
       "    <tr>\n",
       "      <th>A</th>\n",
       "      <th></th>\n",
       "    </tr>\n",
       "  </thead>\n",
       "  <tbody>\n",
       "    <tr>\n",
       "      <th>bar</th>\n",
       "      <td>-2.882806</td>\n",
       "    </tr>\n",
       "    <tr>\n",
       "      <th>foo</th>\n",
       "      <td>2.789845</td>\n",
       "    </tr>\n",
       "  </tbody>\n",
       "</table>\n",
       "</div>"
      ],
      "text/plain": [
       "            B\n",
       "A            \n",
       "bar -2.882806\n",
       "foo  2.789845"
      ]
     },
     "execution_count": 75,
     "metadata": {},
     "output_type": "execute_result"
    }
   ],
   "source": [
    "df.groupby('A').sum()"
   ]
  },
  {
   "cell_type": "code",
   "execution_count": null,
   "id": "136fa1a7",
   "metadata": {},
   "outputs": [],
   "source": [
    "import matplotlib.pyplot as plt\n",
    "import numpy as np"
   ]
  },
  {
   "cell_type": "code",
   "execution_count": null,
   "id": "786ce434",
   "metadata": {},
   "outputs": [
    {
     "data": {
      "image/png": "[encoded data removed]",
      "text/plain": [
       "<Figure size 640x480 with 1 Axes>"
      ]
     },
     "metadata": {},
     "output_type": "display_data"
    }
   ],
   "source": [
    "plt.plot([1, 2, 3, 4],[1, 4, 9, 6])\n",
    "plt.show()"
   ]
  },
  {
   "cell_type": "code",
   "execution_count": null,
   "id": "cc89c804",
   "metadata": {},
   "outputs": [
    {
     "data": {
      "image/png": "[encoded data removed]",
      "text/plain": [
       "<Figure size 640x480 with 1 Axes>"
      ]
     },
     "metadata": {},
     "output_type": "display_data"
    }
   ],
   "source": [
    "plt.plot([1, 2, 3, 4],[1, 4, 9, 16], 'ro')\n",
    "plt.axis([0, 6, 0, 10])\n",
    "plt.show()"
   ]
  },
  {
   "cell_type": "code",
   "execution_count": null,
   "id": "959ecf80",
   "metadata": {},
   "outputs": [
    {
     "data": {
      "image/png": "[encoded data removed]",
      "text/plain": [
       "<Figure size 640x480 with 1 Axes>"
      ]
     },
     "metadata": {},
     "output_type": "display_data"
    }
   ],
   "source": [
    "t = np.arange(0, 5, 0.2)\n",
    "plt.plot(t, t, 'r--', t, t**2, 'bs', t, t**3, 'g^')\n",
    "plt.show()"
   ]
  },
  {
   "cell_type": "code",
   "execution_count": null,
   "id": "ae90001e",
   "metadata": {},
   "outputs": [
    {
     "data": {
      "image/png": "[encoded data removed]",
      "text/plain": [
       "<Figure size 640x480 with 1 Axes>"
      ]
     },
     "metadata": {},
     "output_type": "display_data"
    }
   ],
   "source": [
    "x = np.random.rand(50)\n",
    "y = np.random.rand(50)\n",
    "colors = np.random.rand(50)\n",
    "area = np.random.rand(50) * 100\n",
    "plt.scatter(x, y, s=area, c=colors, alpha=0.5)\n",
    "plt.show()"
   ]
  },
  {
   "cell_type": "code",
   "execution_count": null,
   "id": "9c246765",
   "metadata": {},
   "outputs": [
    {
     "data": {
      "image/png": "[encoded data removed]",
      "text/plain": [
       "<Figure size 640x480 with 1 Axes>"
      ]
     },
     "metadata": {},
     "output_type": "display_data"
    }
   ],
   "source": [
    "objects = ('a', 'b', 'c', 'd', 'e', 'f')\n",
    "y_pos = np.arange(len(objects))\n",
    "value = [1, 2, 3, 4, 5, 6]\n",
    "\n",
    "plt.bar(y_pos, value, alpha=0.5)\n",
    "plt.xticks(y_pos, objects)\n",
    "plt.ylabel('Usage')\n",
    "plt.title('Title')\n",
    "plt.show()"
   ]
  },
  {
   "cell_type": "code",
   "execution_count": null,
   "id": "fe3dcfa0",
   "metadata": {},
   "outputs": [
    {
     "data": {
      "image/png": "[encoded data removed]",
      "text/plain": [
       "<Figure size 640x480 with 1 Axes>"
      ]
     },
     "metadata": {},
     "output_type": "display_data"
    }
   ],
   "source": [
    "labels = ('Python', 'C++', 'Ruby', 'Java')\n",
    "sizes = [10, 20, 30, 40]\n",
    "colors = ['red', 'green', 'yellow', 'blue']\n",
    "\n",
    "plt.pie(sizes, labels=labels, colors=colors, autopct='%1.1f%%', shadow=True)\n",
    "plt.axis('equal')\n",
    "plt.show()"
   ]
  },
  {
   "cell_type": "code",
   "execution_count": null,
   "id": "66679455",
   "metadata": {},
   "outputs": [
    {
     "data": {
      "image/png": "[encoded data removed]",
      "text/plain": [
       "<Figure size 640x480 with 1 Axes>"
      ]
     },
     "metadata": {},
     "output_type": "display_data"
    }
   ],
   "source": [
    "y = [2, 4, 6, 8, 10]\n",
    "y2 = [10, 11, 12, 13, 14]\n",
    "x = np.arange(5)\n",
    "\n",
    "plt.plot(x, y, label='Y')\n",
    "plt.plot(x, y2, label='Y2')\n",
    "plt.legend()\n",
    "plt.show()"
   ]
  },
  {
   "cell_type": "code",
   "execution_count": null,
   "id": "58139043",
   "metadata": {},
   "outputs": [],
   "source": [
    "pip install scikit-learn"
   ]
  },
  {
   "cell_type": "code",
   "execution_count": null,
   "id": "e01845a2",
   "metadata": {},
   "outputs": [],
   "source": [
    "import sklearn.datasets\n",
    "import sklearn.linear_model\n",
    "import sklearn.model_selection"
   ]
  },
  {
   "cell_type": "code",
   "execution_count": 5,
   "id": "f6ba33b4",
   "metadata": {},
   "outputs": [
    {
     "ename": "SyntaxError",
     "evalue": "invalid syntax (2372038462.py, line 1)",
     "output_type": "error",
     "traceback": [
      "\u001b[0;36m  Cell \u001b[0;32mIn[5], line 1\u001b[0;36m\u001b[0m\n\u001b[0;31m    pip install ipython==6.1.0 jupyter==1.0.0 matplotlib==2.0.2\u001b[0m\n\u001b[0m        ^\u001b[0m\n\u001b[0;31mSyntaxError\u001b[0m\u001b[0;31m:\u001b[0m invalid syntax\n"
     ]
    }
   ],
   "source": [
    "pip install ipython==6.1.0 jupyter==1.0.0 matplotlib==2.0.2 \n",
    "pip install numpy==1.13.3 pandas==0.20.3 pandas-datareader==0.5.0 scikit-learn==0.19.0\n",
    "\n",
    "import datetime \n",
    "\n",
    "import IPython.display\n",
    "import matplotlib\n",
    "import matplotlib.pyplot as plt\n",
    "import numpy as np\n",
    "import pandas_datareader\n",
    "import sklearn\n",
    "import sklearn.linear_model\n",
    "import sklearn.model_selection\n",
    "import yfinance as yf"
   ]
  },
  {
   "cell_type": "code",
   "execution_count": 6,
   "id": "0fe7cfad",
   "metadata": {},
   "outputs": [
    {
     "ename": "NameError",
     "evalue": "name 'pandas_datareader' is not defined",
     "output_type": "error",
     "traceback": [
      "\u001b[0;31m---------------------------------------------------------------------------\u001b[0m",
      "\u001b[0;31mNameError\u001b[0m                                 Traceback (most recent call last)",
      "Cell \u001b[0;32mIn[6], line 2\u001b[0m\n\u001b[1;32m      1\u001b[0m \u001b[38;5;66;03m# データウェアハウス\u001b[39;00m\n\u001b[0;32m----> 2\u001b[0m df_aapl \u001b[38;5;241m=\u001b[39m \u001b[43mpandas_datareader\u001b[49m\u001b[38;5;241m.\u001b[39mdata\u001b[38;5;241m.\u001b[39mDataReader(\u001b[38;5;124m'\u001b[39m\u001b[38;5;124mAAPL\u001b[39m\u001b[38;5;124m'\u001b[39m,  \u001b[38;5;124m'\u001b[39m\u001b[38;5;124myahoo\u001b[39m\u001b[38;5;124m'\u001b[39m, \u001b[38;5;124m'\u001b[39m\u001b[38;5;124m2014-11-01\u001b[39m\u001b[38;5;124m'\u001b[39m)\n\u001b[1;32m      3\u001b[0m df_fb \u001b[38;5;241m=\u001b[39m pandas_datareader\u001b[38;5;241m.\u001b[39mdata\u001b[38;5;241m.\u001b[39mDataReader(\u001b[38;5;124m'\u001b[39m\u001b[38;5;124mFB\u001b[39m\u001b[38;5;124m'\u001b[39m,  \u001b[38;5;124m'\u001b[39m\u001b[38;5;124myahoo\u001b[39m\u001b[38;5;124m'\u001b[39m, \u001b[38;5;124m'\u001b[39m\u001b[38;5;124m2014-11-01\u001b[39m\u001b[38;5;124m'\u001b[39m)\n\u001b[1;32m      4\u001b[0m df_gold \u001b[38;5;241m=\u001b[39m pandas_datareader\u001b[38;5;241m.\u001b[39mdata\u001b[38;5;241m.\u001b[39mDataReader(\u001b[38;5;124m'\u001b[39m\u001b[38;5;124mGLD\u001b[39m\u001b[38;5;124m'\u001b[39m,  \u001b[38;5;124m'\u001b[39m\u001b[38;5;124myahoo\u001b[39m\u001b[38;5;124m'\u001b[39m, \u001b[38;5;124m'\u001b[39m\u001b[38;5;124m2014-11-01\u001b[39m\u001b[38;5;124m'\u001b[39m)\n",
      "\u001b[0;31mNameError\u001b[0m: name 'pandas_datareader' is not defined"
     ]
    }
   ],
   "source": [
    "# データウェアハウス\n",
    "df_aapl = pandas_datareader.data.DataReader('AAPL',  'yahoo', '2014-11-01')\n",
    "df_fb = pandas_datareader.data.DataReader('FB',  'yahoo', '2014-11-01')\n",
    "df_gold = pandas_datareader.data.DataReader('GLD',  'yahoo', '2014-11-01')"
   ]
  },
  {
   "cell_type": "code",
   "execution_count": null,
   "id": "642cc755",
   "metadata": {},
   "outputs": [],
   "source": []
  }
 ],
 "metadata": {
  "kernelspec": {
   "display_name": "Python 3 (ipykernel)",
   "language": "python",
   "name": "python3"
  },
  "language_info": {
   "codemirror_mode": {
    "name": "ipython",
    "version": 3
   },
   "file_extension": ".py",
   "mimetype": "text/x-python",
   "name": "python",
   "nbconvert_exporter": "python",
   "pygments_lexer": "ipython3",
   "version": "3.10.9"
  }
 },
 "nbformat": 4,
 "nbformat_minor": 5
}
