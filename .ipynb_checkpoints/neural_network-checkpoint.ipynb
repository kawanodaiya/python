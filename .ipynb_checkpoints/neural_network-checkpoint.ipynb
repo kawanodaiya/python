{
 "cells": [
  {
   "cell_type": "code",
   "execution_count": 2,
   "id": "72b8dcda",
   "metadata": {},
   "outputs": [
    {
     "name": "stdout",
     "output_type": "stream",
     "text": [
      "Collecting schemdraw\n",
      "  Downloading schemdraw-0.17-py3-none-any.whl (172 kB)\n",
      "\u001b[2K     \u001b[90m━━━━━━━━━━━━━━━━━━━━━━━━━━━━━━━━━━━━━━━\u001b[0m \u001b[32m172.6/172.6 kB\u001b[0m \u001b[31m3.4 MB/s\u001b[0m eta \u001b[36m0:00:00\u001b[0ma \u001b[36m0:00:01\u001b[0m\n",
      "\u001b[?25hInstalling collected packages: schemdraw\n",
      "Successfully installed schemdraw-0.17\n"
     ]
    }
   ],
   "source": [
    "!pip install schemdraw"
   ]
  },
  {
   "cell_type": "code",
   "execution_count": 3,
   "id": "91dfd15a",
   "metadata": {},
   "outputs": [],
   "source": [
    "import numpy as np\n",
    "import matplotlib.pyplot as plt\n",
    "import matplotlib.animation\n",
    "from IPython.display import HTML\n",
    "from sklearn.linear_model import SGDClassifier\n",
    "from schemdraw.parsing import logicparse"
   ]
  },
  {
   "cell_type": "code",
   "execution_count": null,
   "id": "8fbcf805",
   "metadata": {},
   "outputs": [],
   "source": [
    "logicparse('$x_1$ and $x_2$', outlabel='$y$')　# 論理積"
   ]
  }
 ],
 "metadata": {
  "kernelspec": {
   "display_name": "Python 3 (ipykernel)",
   "language": "python",
   "name": "python3"
  },
  "language_info": {
   "codemirror_mode": {
    "name": "ipython",
    "version": 3
   },
   "file_extension": ".py",
   "mimetype": "text/x-python",
   "name": "python",
   "nbconvert_exporter": "python",
   "pygments_lexer": "ipython3",
   "version": "3.10.9"
  }
 },
 "nbformat": 4,
 "nbformat_minor": 5
}
