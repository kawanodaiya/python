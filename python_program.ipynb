{
 "cells": [
  {
   "cell_type": "code",
   "execution_count": 4,
   "id": "dbd0f701",
   "metadata": {},
   "outputs": [
    {
     "name": "stdout",
     "output_type": "stream",
     "text": [
      "True\n"
     ]
    }
   ],
   "source": [
    "def check_characters(str1):\n",
    "    set1 = set(str1)\n",
    "    return len(set1)\n",
    "\n",
    "print(check_characters('Onde a terra acaba e o mar começa') == 13)"
   ]
  },
  {
   "cell_type": "code",
   "execution_count": 5,
   "id": "c24c151c",
   "metadata": {},
   "outputs": [
    {
     "name": "stdout",
     "output_type": "stream",
     "text": [
      "True\n"
     ]
    }
   ],
   "source": [
    "def check_dicsize(dic1):\n",
    "    set1 = set(dic1)\n",
    "    return len(set1)\n",
    "\n",
    "print(check_dicsize({'apple': 0, 'orange': 2, 'pen': 1}) == 3)"
   ]
  },
  {
   "cell_type": "code",
   "execution_count": 6,
   "id": "489f9fe0",
   "metadata": {},
   "outputs": [
    {
     "name": "stdout",
     "output_type": "stream",
     "text": [
      "True\n"
     ]
    }
   ],
   "source": [
    "def count_words2(str_engsentences):\n",
    "    str1 = str_engsentences.replace('.', '') # 句読点を削除する\n",
    "    str1 = str1.replace(',', '')\n",
    "    str1 = str1.replace(':', '')\n",
    "    str1 = str1.replace(';', '')\n",
    "    str1 = str1.replace('!', '')\n",
    "    str1 = str1.replace('?', '')\n",
    "    list1 = str1.split(' ') # 句読点を削除した文字列を、単語ごとにリストに格納する\n",
    "    set1 = set(list1) # リストを集合に変換して同じ要素を1つにまとめる\n",
    "    return len(set1)\n",
    "\n",
    "print(count_words2('From Stettin in the Baltic to Trieste in the Adriatic an iron curtain has descended across the Continent.') == 15)"
   ]
  },
  {
   "cell_type": "code",
   "execution_count": 10,
   "id": "c521a800",
   "metadata": {},
   "outputs": [
    {
     "name": "stdout",
     "output_type": "stream",
     "text": [
      "19\n"
     ]
    }
   ],
   "source": [
    "# マージソートを行い、比較回数 n を返す\n",
    "def merge_sort_rec(data, l, r, work):\n",
    "    n = 0\n",
    "    if r - l <= 1:\n",
    "        return n\n",
    "    m = l + (r - l) // 2\n",
    "    n1 = merge_sort_rec(data, l, m, work)\n",
    "    n2 = merge_sort_rec(data, m, r, work)\n",
    "    i1 = l\n",
    "    i2 = m\n",
    "    for i in range(l, r):\n",
    "        from1 = False\n",
    "        if i2 >= r:\n",
    "            from1 = True\n",
    "        elif i1 < m:\n",
    "            n = n + 1\n",
    "            if data[i1] <= data[i2]:\n",
    "                from1 = True\n",
    "        if from1:\n",
    "            work[i] = data[i1]\n",
    "            i1 = i1 + 1\n",
    "        else:\n",
    "            work[i] = data[i2]\n",
    "            i2 = i2 + 1\n",
    "    for i in range(l, r):\n",
    "        data[i] = work[i]\n",
    "    return n1 + n2 + n\n",
    "\n",
    "def merge_sort(data):\n",
    "    return merge_sort_rec(data, 0, len(data), [0]*len(data))\n",
    "\n",
    "data = [2, 1, 2, 3, 2, 3, 1, 3, 3, 1]\n",
    "print(merge_sort(data))"
   ]
  },
  {
   "cell_type": "code",
   "execution_count": null,
   "id": "08c34a88",
   "metadata": {},
   "outputs": [],
   "source": []
  }
 ],
 "metadata": {
  "kernelspec": {
   "display_name": "Python 3 (ipykernel)",
   "language": "python",
   "name": "python3"
  },
  "language_info": {
   "codemirror_mode": {
    "name": "ipython",
    "version": 3
   },
   "file_extension": ".py",
   "mimetype": "text/x-python",
   "name": "python",
   "nbconvert_exporter": "python",
   "pygments_lexer": "ipython3",
   "version": "3.10.9"
  }
 },
 "nbformat": 4,
 "nbformat_minor": 5
}
